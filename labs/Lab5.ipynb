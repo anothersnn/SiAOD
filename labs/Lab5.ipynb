{
 "cells": [
  {
   "cell_type": "markdown",
   "metadata": {
    "id": "WPvB9TcMmKA6"
   },
   "source": [
    "# Лабораторная работа №5\n",
    "# Рекурсия. Фракталы."
   ]
  },
  {
   "cell_type": "markdown",
   "metadata": {
    "id": "96Gi_LEvmSVH"
   },
   "source": [
    "## Выполнил студент группы БВТ2005 Никитин Степан\n",
    "***"
   ]
  },
  {
   "cell_type": "markdown",
   "metadata": {
    "id": "4clYOyb0mbEv"
   },
   "source": [
    "### Задание:\n",
    "Реализовать генерацию заданного типа фрактала с применением рекурсивных функций.\n",
    "\n",
    "\n",
    "Добавить возможность задания глубины фрактала. \n",
    "\n",
    "\n",
    "Оценить глубину рекурсии. \n",
    "\n",
    "\n",
    "Построить таблицу зависимости времени построения от глубины фрактала."
   ]
  },
  {
   "cell_type": "markdown",
   "metadata": {
    "id": "wDXHbUmMmhRL"
   },
   "source": [
    "### Список фракталов:\n",
    "\n",
    "Кривая Коха\n",
    "| Кривая Гильберта\n",
    "| Кривая Серпинского\n",
    "| Салфетка Серпинского\n",
    "| Ковер Серпинского\n",
    "| Дерево Пифагора "
   ]
  },
  {
   "cell_type": "markdown",
   "metadata": {
    "id": "Wggfn8l7nG72"
   },
   "source": [
    "### Выполнение:"
   ]
  },
  {
   "cell_type": "markdown",
   "metadata": {},
   "source": [
    "### L-система"
   ]
  },
  {
   "cell_type": "code",
   "execution_count": 1,
   "metadata": {},
   "outputs": [],
   "source": [
    "import turtle\n",
    "import time\n",
    "\n",
    "\n",
    "class LSystem2D:\n",
    "    def __init__(self, t, axiom, width, length, angle):\n",
    "        self.axiom = axiom          # Инициатор\n",
    "        self.state = axiom          # Строка с набором команд для фрактала (вначале это инициатор)\n",
    "        self.width = width          # Толщина линии рисования\n",
    "        self.length = length        # Длина одного линейного сегмента кривой\n",
    "        self.angle = angle          # Фиксированный угол поворота\n",
    "        self.t = t                  # Сама черепашка\n",
    "        self.rules = {}             # Словарь для хранения правил формирования кривых\n",
    "        self.t.pensize(self.width)  # Ширина линии рисования\n",
    "\n",
    "    def add_rules(self, *rules):    # Список кортежей\n",
    "        \"\"\" Каждый символ key на новой итерации заменяется на \"правило\"-строку-значение value \"\"\"\n",
    "        for key, value in rules:\n",
    "            self.rules[key] = value\n",
    "\n",
    "    def generate_path(self, n_iter):\n",
    "        for key, value in self.rules.items():\n",
    "            # Заменяем все ключи в текущем правиле (текущем маршруте) на значение в нижнем регистре\n",
    "            self.state = self.state.replace(key, value.lower())\n",
    "        self.state = self.state.upper()\n",
    "            \n",
    "        if n_iter > 0:\n",
    "            self.generate_path(n_iter - 1)\n",
    "\n",
    "    def set_turtle(self, my_tuple):\n",
    "        self.t.up()\n",
    "        self.t.goto(my_tuple[0], my_tuple[1])    # Переносим черепашку в нужные координаты\n",
    "        self.t.seth(my_tuple[2])                 # Устанавливаем нужный угол поворота\n",
    "        self.t.down()\n",
    "\n",
    "    def draw_turtle(self, start_pos, start_angle):\n",
    "        turtle.tracer(1, 0)         # Форсажный режим для черепашки, чтобы она побыстрее ходила\n",
    "        self.t.up()                 # Черепашка воспаряет над поверхностью, чтобы не было следа\n",
    "        self.t.setpos(start_pos)    # Начальная стартовая позиция\n",
    "        self.t.seth(start_angle)    # Начальный угол поворота\n",
    "        self.t.down()               # Черепашка опускается на поверхность\n",
    "        turtle_stack = []           # Хранит данные для ветвления\n",
    "        \n",
    "        for move in self.state:\n",
    "            if move == 'F':\n",
    "                self.t.forward(self.length)\n",
    "            elif move == 'S':\n",
    "                self.t.up()\n",
    "                self.t.forward(self.length)\n",
    "                self.t.down()\n",
    "            elif move == '+':\n",
    "                self.t.left(self.angle)\n",
    "            elif move == '-':\n",
    "                self.t.right(self.angle)\n",
    "            elif move == '[':\n",
    "                turtle_stack.append((self.t.xcor(), self.t.ycor(), self.t.heading(), self.t.pensize()))\n",
    "            elif move == ']':\n",
    "                xcor, ycor, head, w = turtle_stack.pop()\n",
    "                self.set_turtle((xcor, ycor, head))    #Координаты + угол поворота\n",
    "                self.width = w\n",
    "                self.t.pensize(self.width)"
   ]
  },
  {
   "cell_type": "markdown",
   "metadata": {},
   "source": [
    "### Кривая Коха"
   ]
  },
  {
   "cell_type": "code",
   "execution_count": 2,
   "metadata": {
    "id": "681a95mZnOSa"
   },
   "outputs": [
    {
     "name": "stdout",
     "output_type": "stream",
     "text": [
      "Глубина: 1. Время: 107 ms\n",
      "Глубина: 2. Время: 476 ms\n",
      "Глубина: 3. Время: 1969 ms\n",
      "Глубина: 4. Время: 7876 ms\n",
      "Глубина: 5. Время: 31549 ms\n"
     ]
    }
   ],
   "source": [
    "def draw_koch_segment(t, ln, lvl):\n",
    "    if ln > 6 and lvl:\n",
    "        ln3 = ln // 3\n",
    "        draw_koch_segment(t, ln3, lvl-1)\n",
    "        t.left(60)\n",
    "        draw_koch_segment(t, ln3, lvl-1)\n",
    "        t.right(120)\n",
    "        draw_koch_segment(t, ln3, lvl-1)\n",
    "        t.left(60)\n",
    "        draw_koch_segment(t, ln3, lvl-1)\n",
    "    else:\n",
    "        t.forward(ln)\n",
    "        t.left(60)\n",
    "        t.forward(ln)\n",
    "        t.right(120)\n",
    "        t.forward(ln)\n",
    "        t.left(60)\n",
    "        t.forward(ln)\n",
    "        lvl -= 1\n",
    "\n",
    "\n",
    "def koch_data(t, lvl):\n",
    "    t.reset()\n",
    "    t.ht()\n",
    "    t.speed(1000)\n",
    "    ln = 200\n",
    "    start = time.time()\n",
    "    draw_koch_segment(t, ln, lvl)\n",
    "    total = round((time.time() - start) * 1000)\n",
    "    koch_info.append(total)\n",
    "\n",
    "\n",
    "screen = turtle.Screen()\n",
    "screen.setup(1200, 800, 0, 0)\n",
    "\n",
    "t = turtle.Turtle()\n",
    "koch_info = []\n",
    "\n",
    "for lvl in range(5):\n",
    "    koch_data(t, lvl)\n",
    "\n",
    "for i in range(5):\n",
    "    print(f'Глубина: {i+1}. Время: {format(koch_info[i])} ms')\n",
    "    \n",
    "turtle.done()\n",
    "\n",
    "# axiom = 'F'\n",
    "# l_sys.add_rules(('F', 'F+F--F+F'))"
   ]
  },
  {
   "cell_type": "markdown",
   "metadata": {},
   "source": [
    "### Кривая Гильберта"
   ]
  },
  {
   "cell_type": "code",
   "execution_count": 3,
   "metadata": {},
   "outputs": [
    {
     "name": "stdout",
     "output_type": "stream",
     "text": [
      "Глубина: 1. Время: 9 ms\n",
      "Глубина: 2. Время: 53 ms\n",
      "Глубина: 3. Время: 244 ms\n",
      "Глубина: 4. Время: 1611 ms\n",
      "Глубина: 5. Время: 6456 ms\n"
     ]
    }
   ],
   "source": [
    "screen = turtle.Screen()\n",
    "screen.setup(1200, 800, 0, 0)\n",
    "\n",
    "t = turtle.Turtle()\n",
    "t.ht()\n",
    "\n",
    "pen_width = 2\n",
    "f_len = 5\n",
    "angle = 90\n",
    "axiom = 'X'\n",
    "\n",
    "gilbert_info = []\n",
    "\n",
    "for lvl in range(5):\n",
    "    t.reset()\n",
    "    t.ht()\n",
    "    l_sys = LSystem2D(t, axiom, pen_width, f_len, angle)\n",
    "    l_sys.add_rules(('X', '-YF+XFX+FY-'), ('Y', '+XF-YFY-FX+'))\n",
    "    start = time.time()\n",
    "    l_sys.generate_path(lvl)\n",
    "    l_sys.draw_turtle((0, 0), 0)\n",
    "    total = round((time.time() - start) * 1000)\n",
    "    gilbert_info.append(total)\n",
    "\n",
    "for i in range(5):\n",
    "    print(f'Глубина: {i+1}. Время: {format(gilbert_info[i])} ms')\n",
    "\n",
    "turtle.done()"
   ]
  },
  {
   "cell_type": "markdown",
   "metadata": {},
   "source": [
    "### Кривая Серпинского"
   ]
  },
  {
   "cell_type": "code",
   "execution_count": 3,
   "metadata": {},
   "outputs": [
    {
     "name": "stdout",
     "output_type": "stream",
     "text": [
      "Глубина: 1. Время: 54 ms\n",
      "Глубина: 2. Время: 269 ms\n",
      "Глубина: 3. Время: 1707 ms\n",
      "Глубина: 4. Время: 6346 ms\n",
      "Глубина: 5. Время: 28627 ms\n"
     ]
    }
   ],
   "source": [
    "screen = turtle.Screen()\n",
    "screen.setup(1200, 800, 0, 0)\n",
    "\n",
    "t = turtle.Turtle()\n",
    "t.ht()\n",
    "\n",
    "pen_widht = 2\n",
    "f_len = 4\n",
    "angle = 90\n",
    "axiom = 'F+XF+F+XF'\n",
    "\n",
    "serp_curve_info = []\n",
    "\n",
    "for lvl in range(5):\n",
    "    t.reset()\n",
    "    t.ht()\n",
    "    l_sys = LSystem2D(t, axiom, pen_widht, f_len, angle)\n",
    "    l_sys.add_rules(('X', 'XF-F+F-XF+F+XF-F+F-X'))\n",
    "    start = time.time()\n",
    "    l_sys.generate_path(lvl)\n",
    "    l_sys.draw_turtle((0, -150), 0)\n",
    "    total = round((time.time() - start) * 1000)\n",
    "    serp_curve_info.append(total)\n",
    "\n",
    "for i in range(5):\n",
    "    print(f'Глубина: {i+1}. Время: {format(serp_curve_info[i])} ms')\n",
    "\n",
    "turtle.done()"
   ]
  },
  {
   "cell_type": "markdown",
   "metadata": {},
   "source": [
    "### Салфетка Серпинского"
   ]
  },
  {
   "cell_type": "code",
   "execution_count": 3,
   "metadata": {},
   "outputs": [
    {
     "name": "stdout",
     "output_type": "stream",
     "text": [
      "Глубина: 1. Время: 28 ms\n",
      "Глубина: 2. Время: 85 ms\n",
      "Глубина: 3. Время: 275 ms\n",
      "Глубина: 4. Время: 1265 ms\n",
      "Глубина: 5. Время: 3838 ms\n"
     ]
    }
   ],
   "source": [
    "screen = turtle.Screen()\n",
    "screen.setup(1200, 800, 0, 0)\n",
    "\n",
    "t = turtle.Turtle()\n",
    "t.ht()\n",
    "\n",
    "pen_widht = 2\n",
    "f_len = 5\n",
    "angle = 60\n",
    "axiom = 'FXF--FF--FF'\n",
    "\n",
    "serp_cloth_info = []\n",
    "\n",
    "for lvl in range(5):\n",
    "    t.reset()\n",
    "    t.ht()\n",
    "    l_sys = LSystem2D(t, axiom, pen_widht, f_len, angle)\n",
    "    l_sys.add_rules(('F', 'FF'), ('X', '--FXF++FXF++FXF--'))\n",
    "    start = time.time()\n",
    "    l_sys.generate_path(lvl)\n",
    "    l_sys.draw_turtle((0, 0), -180)\n",
    "    total = round((time.time() - start) * 1000)\n",
    "    serp_cloth_info.append(total)\n",
    "\n",
    "for i in range(5):\n",
    "    print(f'Глубина: {i+1}. Время: {format(serp_cloth_info[i])} ms')\n",
    "\n",
    "turtle.done()"
   ]
  },
  {
   "cell_type": "markdown",
   "metadata": {},
   "source": [
    "### Ковер Серпинского"
   ]
  },
  {
   "cell_type": "code",
   "execution_count": 3,
   "metadata": {},
   "outputs": [
    {
     "name": "stdout",
     "output_type": "stream",
     "text": [
      "Глубина: 1. Время: 3 ms\n",
      "Глубина: 2. Время: 29 ms\n",
      "Глубина: 3. Время: 290 ms\n",
      "Глубина: 4. Время: 3766 ms\n",
      "Глубина: 5. Время: 98300 ms\n"
     ]
    }
   ],
   "source": [
    "def carpet(n, ln):\n",
    "    if n == 0:\n",
    "        turtle.color('red')\n",
    "        turtle.begin_fill()\n",
    "        for el in range(4):\n",
    "            turtle.forward(ln)\n",
    "            turtle.left(90)\n",
    "        turtle.end_fill()\n",
    "    else:\n",
    "        for el in range(4):\n",
    "            carpet(n-1, ln/3)\n",
    "            turtle.forward(ln/3)\n",
    "\n",
    "            carpet(n-1, ln/3)\n",
    "            turtle.forward(ln/3)\n",
    "\n",
    "            turtle.forward(ln/3)\n",
    "            turtle.left(90)\n",
    "        turtle.update()\n",
    "\n",
    "\n",
    "screen = turtle.Screen()\n",
    "screen.setup(1200, 800, 0, 0)\n",
    "\n",
    "turtle.tracer(0)\n",
    "t = turtle.Turtle()\n",
    "t.ht()\n",
    "\n",
    "serp_carpet_info = []\n",
    "\n",
    "for lvl in range(1, 6):\n",
    "    t.reset()\n",
    "    t.ht()\n",
    "    t.speed(1000)\n",
    "    start = time.time()\n",
    "    carpet(lvl, 300)\n",
    "    total = round((time.time() - start) * 1000)\n",
    "    serp_carpet_info.append(total)\n",
    "    turtle.clear()\n",
    "\n",
    "for i in range(5):\n",
    "    print(f'Глубина: {i+1}. Время: {format(serp_carpet_info[i])} ms')\n",
    "\n",
    "turtle.done()"
   ]
  },
  {
   "cell_type": "markdown",
   "metadata": {},
   "source": [
    "### Дерево Пифагора"
   ]
  },
  {
   "cell_type": "code",
   "execution_count": 2,
   "metadata": {},
   "outputs": [
    {
     "name": "stdout",
     "output_type": "stream",
     "text": [
      "Глубина: 1. Время: 5 ms\n",
      "Глубина: 2. Время: 7 ms\n",
      "Глубина: 3. Время: 19 ms\n",
      "Глубина: 4. Время: 44 ms\n",
      "Глубина: 5. Время: 99 ms\n"
     ]
    }
   ],
   "source": [
    "screen = turtle.Screen()\n",
    "screen.setup(1200, 800, 0, 0)\n",
    "\n",
    "t = turtle.Turtle()\n",
    "t.ht()\n",
    "\n",
    "pen_widht = 2\n",
    "f_len = 8\n",
    "angle = 33\n",
    "axiom = 'A'\n",
    "\n",
    "tree_info = []\n",
    "\n",
    "for lvl in range(5):\n",
    "    t.reset()\n",
    "    t.ht()\n",
    "    l_sys = LSystem2D(t, axiom, pen_widht, f_len, angle)\n",
    "    l_sys.add_rules(('F', 'FF'), ('A', 'F[+A][-A]'))\n",
    "    start = time.time()\n",
    "    l_sys.generate_path(lvl)\n",
    "    l_sys.draw_turtle((0, -200), 90)\n",
    "    total = round((time.time() - start) * 1000)\n",
    "    tree_info.append(total)\n",
    "\n",
    "for i in range(5):\n",
    "    print(f'Глубина: {i+1}. Время: {format(tree_info[i])} ms')\n",
    "\n",
    "turtle.done()"
   ]
  }
 ],
 "metadata": {
  "colab": {
   "collapsed_sections": [],
   "name": "Lab5.ipynb",
   "provenance": []
  },
  "kernelspec": {
   "display_name": "Python 3 (ipykernel)",
   "language": "python",
   "name": "python3"
  },
  "language_info": {
   "codemirror_mode": {
    "name": "ipython",
    "version": 3
   },
   "file_extension": ".py",
   "mimetype": "text/x-python",
   "name": "python",
   "nbconvert_exporter": "python",
   "pygments_lexer": "ipython3",
   "version": "3.10.2"
  }
 },
 "nbformat": 4,
 "nbformat_minor": 1
}
