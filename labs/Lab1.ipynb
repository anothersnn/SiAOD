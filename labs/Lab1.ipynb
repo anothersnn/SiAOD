{
 "cells": [
  {
   "cell_type": "markdown",
   "id": "fifteen-sailing",
   "metadata": {},
   "source": [
    "# Лабораторная работа №1\n",
    "## Выполнил студент группы БВТ2005 Никитин Степан"
   ]
  },
  {
   "cell_type": "markdown",
   "id": "particular-syndicate",
   "metadata": {},
   "source": [
    "### Оглавление\n",
    "1. [Задание 1](#Задание-№1)\n",
    "2. [Задание 2](#Задание-№2)\n",
    "3. [Задание 3](#Задание-№3)\n",
    "4. [Вывод](#Вывод)"
   ]
  },
  {
   "cell_type": "markdown",
   "id": "arctic-stocks",
   "metadata": {},
   "source": [
    "### Задание №1\n",
    "<i> Вызвать функцию print() и передать туда строку Hello, World! </i>"
   ]
  },
  {
   "cell_type": "code",
   "execution_count": 1,
   "id": "caring-truck",
   "metadata": {
    "scrolled": true
   },
   "outputs": [
    {
     "name": "stdout",
     "output_type": "stream",
     "text": [
      "Hello, World!\n"
     ]
    }
   ],
   "source": [
    "print('Hello, World!')"
   ]
  },
  {
   "cell_type": "markdown",
   "id": "maritime-conversation",
   "metadata": {},
   "source": [
    "### Задание №2\n",
    "Написать генератор случайных матриц(многомерных), который принимает\n",
    "опциональные параметры <b>m</b>, <b>n</b>, <b>min_limit</b>, <b>max_limit</b>, где <b>m</b> и <b>n</b> указывают размер\n",
    "матрицы, а <b>min_lim</b> и <b>max_lim</b> - минимальное и максимальное значение для\n",
    "генерируемого числа."
   ]
  },
  {
   "cell_type": "code",
   "execution_count": 2,
   "id": "built-contact",
   "metadata": {},
   "outputs": [],
   "source": [
    "import random\n",
    "import time"
   ]
  },
  {
   "cell_type": "code",
   "execution_count": 14,
   "id": "alert-charm",
   "metadata": {},
   "outputs": [
    {
     "name": "stdout",
     "output_type": "stream",
     "text": [
      "Введите количество строк: 10\n",
      "Введите количество столбцов: 10\n",
      "Минимальное значение генерируемого числа: 0\n",
      "Максимальное значение генерируемого числа: 9\n",
      "7 0 0 6 3 3 1 3 7 5 \n",
      "0 4 6 9 3 7 8 5 5 2 \n",
      "1 7 2 5 7 6 0 3 9 1 \n",
      "2 8 3 9 8 0 2 8 0 5 \n",
      "0 3 5 8 4 1 9 2 1 8 \n",
      "1 3 0 7 9 7 9 5 0 4 \n",
      "5 1 6 1 3 2 3 8 4 2 \n",
      "0 2 7 0 8 5 0 1 0 0 \n",
      "3 6 9 0 0 7 6 7 7 5 \n",
      "2 7 8 0 1 2 9 8 8 2 \n"
     ]
    }
   ],
   "source": [
    "import random\n",
    "import time\n",
    "\n",
    "from random import randint\n",
    "\n",
    "m = int(input('Введите количество строк: '))\n",
    "n = int(input('Введите количество столбцов: '))\n",
    "min_limit = int(input('Минимальное значение генерируемого числа: '))\n",
    "max_limit = int(input('Максимальное значение генерируемого числа: '))\n",
    "\n",
    "def create_matrix(m, n, min_limit, max_limit):\n",
    "    matrix = []\n",
    "    \n",
    "    for row in range(m):\n",
    "        internal_array = []\n",
    "        \n",
    "        for column in range(n):\n",
    "            internal_array.append(random.randint(min_limit, max_limit))\n",
    "        matrix.append(internal_array)\n",
    "        \n",
    "    return matrix\n",
    "\n",
    "def print_matrix(matrix):\n",
    "    for i in range(len(matrix)):\n",
    "        for j in range(len(matrix[i])):\n",
    "            print(matrix[i][j], end=' ')\n",
    "        print()\n",
    "\n",
    "        \n",
    "createddd_matrix = create_matrix(m, n, min_limit, max_limit)\n",
    "print_matrix(createddd_matrix)"
   ]
  },
  {
   "cell_type": "markdown",
   "id": "catholic-roots",
   "metadata": {},
   "source": [
    "### Задание №3\n",
    "Реализовать методы сортировки строк числовой матрицы в соответствии с\n",
    "заданием. Оценить время работы каждого алгоритма сортировки и сравнить его со\n",
    "временем стандартной функции сортировки. Испытания проводить на сгенерированных\n",
    "матрицах."
   ]
  },
  {
   "cell_type": "code",
   "execution_count": 6,
   "id": "opposed-creature",
   "metadata": {},
   "outputs": [],
   "source": [
    "import copy\n",
    "import time"
   ]
  },
  {
   "cell_type": "markdown",
   "id": "e9dd75d6",
   "metadata": {},
   "source": [
    "### Сортировка выбором"
   ]
  },
  {
   "cell_type": "code",
   "execution_count": 15,
   "id": "cleared-anniversary",
   "metadata": {},
   "outputs": [
    {
     "name": "stdout",
     "output_type": "stream",
     "text": [
      "0 0 1 3 3 3 5 6 7 7 \n",
      "0 2 3 4 5 5 6 7 8 9 \n",
      "0 1 1 2 3 5 6 7 7 9 \n",
      "0 0 2 2 3 5 8 8 8 9 \n",
      "0 1 1 2 3 4 5 8 8 9 \n",
      "0 0 1 3 4 5 7 7 9 9 \n",
      "1 1 2 2 3 3 4 5 6 8 \n",
      "0 0 0 0 0 1 2 5 7 8 \n",
      "0 0 3 5 6 6 7 7 7 9 \n",
      "0 1 2 2 2 7 8 8 8 9 \n",
      "\n",
      "--- 6 ms ---\n"
     ]
    }
   ],
   "source": [
    "# O(n^2)\n",
    "\n",
    "start_time = time.time()\n",
    "\n",
    "def selection_sort(line):\n",
    "    for i in range(len(line) - 1):\n",
    "        smallest = line[i]                 # Для хранения наименьшего значения\n",
    "        smallest_index = i                 # Для хранения индекса наименьшего значения\n",
    "        \n",
    "        for j in range(i+1, len(line)):    # Поиск минимального значения   \n",
    "            if smallest > line[j]:\n",
    "                smallest = line[j]\n",
    "                smallest_index = j\n",
    "\n",
    "        if smallest_index != i:            # Обмен значениями\n",
    "            line[i], line[smallest_index] = line[smallest_index], line[i]\n",
    "\n",
    "            \n",
    "matr = copy.deepcopy(createddd_matrix)\n",
    "\n",
    "for line in matr:\n",
    "    line = selection_sort(line)\n",
    "\n",
    "print_matrix(matr)\n",
    "\n",
    "selection_sort_time = round((time.time() - start_time)*1000)\n",
    "print(\"\\n--- {0} ms ---\".format(selection_sort_time))"
   ]
  },
  {
   "cell_type": "markdown",
   "id": "01c2c6fd",
   "metadata": {},
   "source": [
    "### Сортировка вставкой"
   ]
  },
  {
   "cell_type": "code",
   "execution_count": 16,
   "id": "roman-silly",
   "metadata": {
    "scrolled": true
   },
   "outputs": [
    {
     "name": "stdout",
     "output_type": "stream",
     "text": [
      "0 0 1 3 3 3 5 6 7 7 \n",
      "0 2 3 4 5 5 6 7 8 9 \n",
      "0 1 1 2 3 5 6 7 7 9 \n",
      "0 0 2 2 3 5 8 8 8 9 \n",
      "0 1 1 2 3 4 5 8 8 9 \n",
      "0 0 1 3 4 5 7 7 9 9 \n",
      "1 1 2 2 3 3 4 5 6 8 \n",
      "0 0 0 0 0 1 2 5 7 8 \n",
      "0 0 3 5 6 6 7 7 7 9 \n",
      "0 1 2 2 2 7 8 8 8 9 \n",
      "\n",
      "--- 4 ms ---\n"
     ]
    }
   ],
   "source": [
    "# O(n^2)\n",
    "\n",
    "start_time = time.time()\n",
    "\n",
    "def insertion_sort(line):\n",
    "    for i in range(1, len(line)):    # С каждым i+1 цикла диапазон рассматриваемых элементов увеличивается\n",
    "        for j in range(i, 0, -1):\n",
    "            if line[j] < line[j-1]:\n",
    "                line[j], line[j-1] = line[j-1], line[j]\n",
    "            else:\n",
    "                break\n",
    "\n",
    "                \n",
    "matr = copy.deepcopy(createddd_matrix)\n",
    "\n",
    "for line in matr:\n",
    "    line = insertion_sort(line)\n",
    "\n",
    "print_matrix(matr)\n",
    "\n",
    "insertion_sort_time = round((time.time() - start_time)*1000)\n",
    "print(\"\\n--- {0} ms ---\".format(insertion_sort_time))"
   ]
  },
  {
   "cell_type": "markdown",
   "id": "6bff64e9",
   "metadata": {},
   "source": [
    "### Сортировка обменом || Сортировка пузырьком"
   ]
  },
  {
   "cell_type": "code",
   "execution_count": 17,
   "id": "vital-implementation",
   "metadata": {},
   "outputs": [
    {
     "name": "stdout",
     "output_type": "stream",
     "text": [
      "0 0 1 3 3 3 5 6 7 7 \n",
      "0 2 3 4 5 5 6 7 8 9 \n",
      "0 1 1 2 3 5 6 7 7 9 \n",
      "0 0 2 2 3 5 8 8 8 9 \n",
      "0 1 1 2 3 4 5 8 8 9 \n",
      "0 0 1 3 4 5 7 7 9 9 \n",
      "1 1 2 2 3 3 4 5 6 8 \n",
      "0 0 0 0 0 1 2 5 7 8 \n",
      "0 0 3 5 6 6 7 7 7 9 \n",
      "0 1 2 2 2 7 8 8 8 9 \n",
      "\n",
      "--- 5 ms ---\n"
     ]
    }
   ],
   "source": [
    "# O(n^2)\n",
    "\n",
    "start_time = time.time()\n",
    "\n",
    "def bubble_sort(line):\n",
    "    for i in range(0, len(line) - 1):            # len(line)-1 итераций работы алгоритма достаточно для сортировки массива\n",
    "        for j in range(0, len(line) - 1 - i):    # Проход по оставшимся неотсортированным парам массива, кроме..\n",
    "            if line[j] > line[j+1]:              # ..последнего элемента, так как он уже максимальный\n",
    "                line[j], line[j+1] = line[j+1], line[j]\n",
    "\n",
    "                \n",
    "matr = copy.deepcopy(createddd_matrix)\n",
    "\n",
    "for line in matr:\n",
    "    line = bubble_sort(line)\n",
    "\n",
    "print_matrix(matr)\n",
    "            \n",
    "bubble_sort_time = round((time.time() - start_time)*1000)\n",
    "print(\"\\n--- {0} ms ---\".format(bubble_sort_time))"
   ]
  },
  {
   "cell_type": "markdown",
   "id": "07f0a38d",
   "metadata": {},
   "source": [
    "### Сортировка Шелла"
   ]
  },
  {
   "cell_type": "code",
   "execution_count": 18,
   "id": "veterinary-glory",
   "metadata": {},
   "outputs": [
    {
     "name": "stdout",
     "output_type": "stream",
     "text": [
      "0 0 1 3 3 3 5 6 7 7 \n",
      "0 2 3 4 5 5 6 7 8 9 \n",
      "0 1 1 2 3 5 6 7 7 9 \n",
      "0 0 2 2 3 5 8 8 8 9 \n",
      "0 1 1 2 3 4 5 8 8 9 \n",
      "0 0 1 3 4 5 7 7 9 9 \n",
      "1 1 2 2 3 3 4 5 6 8 \n",
      "0 0 0 0 0 1 2 5 7 8 \n",
      "0 0 3 5 6 6 7 7 7 9 \n",
      "0 1 2 2 2 7 8 8 8 9 \n",
      "\n",
      "--- 6 ms ---\n"
     ]
    }
   ],
   "source": [
    "# O(n^2)\n",
    "\n",
    "start_time = time.time()\n",
    "\n",
    "def shell_sort(line):\n",
    "    step = len(line) // 2    # Диапазон, между которым будут сравниваться 2 элемента\n",
    "    \n",
    "    while step > 0:\n",
    "        for i in range(step, len(line)):    # Внимание на range(step, len(line))\n",
    "            position = i\n",
    "            \n",
    "            while position >= step and line[position] < line[position - step]:    #\n",
    "                line[position], line[position - step] = line[position - step], line[position]\n",
    "                position = position - step\n",
    "        step = step // 2\n",
    "\n",
    "        \n",
    "matr = copy.deepcopy(createddd_matrix)\n",
    "\n",
    "for line in matr:\n",
    "    line = shell_sort(line)\n",
    "\n",
    "print_matrix(matr)\n",
    "\n",
    "shell_sort_time = round((time.time() - start_time)*1000)\n",
    "print(\"\\n--- {0} ms ---\".format(shell_sort_time))"
   ]
  },
  {
   "cell_type": "markdown",
   "id": "e7974e2f",
   "metadata": {},
   "source": [
    "### Быстрая сортировка"
   ]
  },
  {
   "cell_type": "code",
   "execution_count": 19,
   "id": "correct-chaos",
   "metadata": {},
   "outputs": [
    {
     "name": "stdout",
     "output_type": "stream",
     "text": [
      "0 0 1 3 3 3 5 6 7 7 \n",
      "0 2 3 4 5 5 6 7 8 9 \n",
      "0 1 1 2 3 5 6 7 7 9 \n",
      "0 0 2 2 3 5 8 8 8 9 \n",
      "0 1 1 2 3 4 5 8 8 9 \n",
      "0 0 1 3 4 5 7 7 9 9 \n",
      "1 1 2 2 3 3 4 5 6 8 \n",
      "0 0 0 0 0 1 2 5 7 8 \n",
      "0 0 3 5 6 6 7 7 7 9 \n",
      "0 1 2 2 2 7 8 8 8 9 \n",
      "\n",
      "--- 5 ms ---\n"
     ]
    }
   ],
   "source": [
    "# O(n^2) - worst\n",
    "# O(n log(n)) - mid\n",
    "\n",
    "import random\n",
    "\n",
    "start_time = time.time()\n",
    "\n",
    "def quick_sort(line):\n",
    "    if len(line) < 2:\n",
    "        return line    # Базовый случай: массивы с 0 и 1 элементом уже \"отсортированы\"\n",
    "    else:\n",
    "        pivot = line[0]    # Рекурсивный случай\n",
    "        less = [i for i in line[1:] if i <= pivot]    # Подмассив всех элементов, меньших опорного\n",
    "        \n",
    "        greater = [i for i in line[1:] if i > pivot]    # Подмассив всех элементов, больших опорного\n",
    "        \n",
    "        return quick_sort(less) + [pivot] + quick_sort(greater)\n",
    "\n",
    "#def quick_sort2(line):\n",
    "    #if len(line) > 1:\n",
    "    \n",
    "        # На каждой итерации случайным образом выбирается некое значение,.. \n",
    "        # ..относительно которого массив разбивается на малые и большие значения\n",
    "        # В этом случае происходит ускорение алгоритма быстрой сортировки\n",
    "        \n",
    "        #x = line[random.randint(0, len(line) - 1)]\n",
    "        \n",
    "        #low = [i for i in line if i < x]\n",
    "        #eq = [i for i in line if i == x]\n",
    "        #hi = [i for i in line if i > x]\n",
    "        \n",
    "        #a = quick_sort(low) + eq + quick_sort(hi)\n",
    "    \n",
    "    #return line\n",
    "\n",
    "    \n",
    "matr = copy.deepcopy(createddd_matrix)\n",
    "new_matr = []\n",
    "\n",
    "for line in matr:\n",
    "    new_matr.append(quick_sort(line))\n",
    "\n",
    "print_matrix(new_matr) \n",
    "\n",
    "quick_sort_time = round((time.time() - start_time)*1000)\n",
    "print(\"\\n--- {0} ms ---\".format(quick_sort_time))"
   ]
  },
  {
   "cell_type": "markdown",
   "id": "cae4f062",
   "metadata": {},
   "source": [
    "### Турнирная сортировка"
   ]
  },
  {
   "cell_type": "code",
   "execution_count": 20,
   "id": "french-czech",
   "metadata": {
    "scrolled": false
   },
   "outputs": [
    {
     "name": "stdout",
     "output_type": "stream",
     "text": [
      "0 0 1 3 3 3 5 6 7 7 \n",
      "0 2 3 4 5 5 6 7 8 9 \n",
      "0 1 1 2 3 5 6 7 7 9 \n",
      "0 0 2 2 3 5 8 8 8 9 \n",
      "0 1 1 2 3 4 5 8 8 9 \n",
      "0 0 1 3 4 5 7 7 9 9 \n",
      "1 1 2 2 3 3 4 5 6 8 \n",
      "0 0 0 0 0 1 2 5 7 8 \n",
      "0 0 3 5 6 6 7 7 7 9 \n",
      "0 1 2 2 2 7 8 8 8 9 \n",
      "\n",
      "--- 4 ms ---\n"
     ]
    }
   ],
   "source": [
    "# O(n log(n))\n",
    "\n",
    "import heapq\n",
    "\n",
    "start_time = time.time()\n",
    "\n",
    "def tournament_sort(line, heapsize):\n",
    "    heap = []\n",
    "    \n",
    "    if len(line) >= heapsize:\n",
    "        heap = line[:heapsize]\n",
    "    else:\n",
    "        heap = line[:]\n",
    "        \n",
    "    heapq.heapify(heap)    # Преобразовывает список heap в кучу\n",
    "    winners = [float('-inf')]\n",
    "    losers = []\n",
    "    i = heapsize\n",
    "    \n",
    "    while i < len(line) or len(heap) > 0:\n",
    "        heap_top = heapq.heappop(heap)    # Возвращает и удаляет наименьший элемент из кучи, сохраняя истинный вариант кучи\n",
    "        \n",
    "        if heap_top >= winners[-1]:\n",
    "            winners.append(heap_top)\n",
    "        else:\n",
    "            losers.append(heap_top)\n",
    "        \n",
    "        if i < len(line):\n",
    "            heapq.heappush(heap, line[i])    # Добавляет значение элемента в кучу, сохраняя истинный вариант кучи\n",
    "            \n",
    "        i += 1\n",
    "    \n",
    "    del winners[0]\n",
    "    \n",
    "    line.clear()\n",
    "    line.extend(losers)    # Объединяем победителей и проигравших\n",
    "    line.extend(winners)\n",
    "    \n",
    "    if len(losers) > 0:\n",
    "        tournament_sort(line, heapsize)\n",
    "\n",
    "        \n",
    "matr = copy.deepcopy(createddd_matrix)\n",
    "\n",
    "for i in range(len(matr)):\n",
    "    tournament_sort(matr[i], 10)    \n",
    "\n",
    "print_matrix(matr)\n",
    "\n",
    "tournament_sort_time = round((time.time() - start_time)*1000)\n",
    "print(\"\\n--- {0} ms ---\".format(tournament_sort_time))"
   ]
  },
  {
   "cell_type": "markdown",
   "id": "a2c5b493",
   "metadata": {},
   "source": [
    "### Вывод"
   ]
  },
  {
   "cell_type": "code",
   "execution_count": 21,
   "id": "cd250d5d",
   "metadata": {},
   "outputs": [
    {
     "name": "stdout",
     "output_type": "stream",
     "text": [
      "1 место: .sort() - 0 ms\n",
      "2 место: insertion sort - 4 ms\n",
      "3 место: tournament sort - 4 ms\n",
      "4 место: bubble sort - 5 ms\n",
      "5 место: quick sort - 5 ms\n",
      "6 место: selection sort - 6 ms\n",
      "7 место: shell sort - 6 ms\n"
     ]
    }
   ],
   "source": [
    "matr = copy.deepcopy(createddd_matrix)\n",
    "\n",
    "start_time = time.time()            \n",
    "\n",
    "for i in range(len(matr)):\n",
    "    matr[i].sort()\n",
    "\n",
    "sort_time = round((time.time() - start_time)*1000)\n",
    "\n",
    "sort_list = [[selection_sort_time, \"selection sort\"],\n",
    "             [insertion_sort_time, \"insertion sort\"],\n",
    "             [bubble_sort_time, \"bubble sort\"],\n",
    "             [shell_sort_time, \"shell sort\"],\n",
    "             [quick_sort_time, \"quick sort\"],\n",
    "             [tournament_sort_time, \"tournament sort\"],\n",
    "             [sort_time, \".sort()\"]]\n",
    "\n",
    "sort_list.sort()\n",
    "\n",
    "for i in range(len(sort_list)):\n",
    "    print(f\"{i + 1} место: {sort_list[i][1]} - {sort_list[i][0]} ms\")"
   ]
  }
 ],
 "metadata": {
  "kernelspec": {
   "display_name": "Python 3 (ipykernel)",
   "language": "python",
   "name": "python3"
  },
  "language_info": {
   "codemirror_mode": {
    "name": "ipython",
    "version": 3
   },
   "file_extension": ".py",
   "mimetype": "text/x-python",
   "name": "python",
   "nbconvert_exporter": "python",
   "pygments_lexer": "ipython3",
   "version": "3.10.2"
  }
 },
 "nbformat": 4,
 "nbformat_minor": 5
}
