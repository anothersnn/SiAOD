{
 "cells": [
  {
   "cell_type": "markdown",
   "id": "arctic-stocks",
   "metadata": {},
   "source": [
    "### Задание №1\n",
    "Массив A состоит из целых положительных чисел длин отрезков. Составьте из трех отрезков такой треугольник, чтобы его периметр был максимально возможным. Если невозможно составить треугольник с положительной площадью функция возвращает 0."
   ]
  },
  {
   "cell_type": "code",
   "execution_count": 2,
   "id": "caring-truck",
   "metadata": {
    "scrolled": false
   },
   "outputs": [
    {
     "name": "stdout",
     "output_type": "stream",
     "text": [
      "Введите числа: 6 12 8 2 10 5 3 8 15\n",
      "([15, 12, 10], 37)\n"
     ]
    }
   ],
   "source": [
    "def check_sides(a, b, c, p):\n",
    "    if a >= b + c or b >= a + c or c >= a + b or p > a + b + c:\n",
    "        return False\n",
    "    return True\n",
    "\n",
    "\n",
    "def triangle(arr):\n",
    "    arr.sort()\n",
    "    sides = []\n",
    "    p = 0\n",
    "\n",
    "    for i in range(2, len(arr)):\n",
    "        a = arr[i]\n",
    "        b = arr[i - 1]\n",
    "        c = arr[i - 2]\n",
    "\n",
    "        if check_sides(a, b, c, p):\n",
    "            sides = [a, b, c]\n",
    "            p = a + b + c\n",
    "\n",
    "    if p > 0:\n",
    "        return sides, p\n",
    "    else:\n",
    "        return 0\n",
    "\n",
    "\n",
    "arr = list(map(int, input('Введите числа: ').split()))\n",
    "print(triangle(arr))"
   ]
  },
  {
   "cell_type": "markdown",
   "id": "maritime-conversation",
   "metadata": {},
   "source": [
    "### Задание №2\n",
    "Дан массив неотрицательных целых чисел nums. Расположите их в таком порядке, чтобы вместе они образовали максимально возможное число. Замечание: Результат может быть очень большим числом, поэтому представьте его как string, а не integer."
   ]
  },
  {
   "cell_type": "code",
   "execution_count": 3,
   "id": "alert-charm",
   "metadata": {
    "scrolled": false
   },
   "outputs": [
    {
     "name": "stdout",
     "output_type": "stream",
     "text": [
      "[12, 44, 89, 51, 45, 79, 39, 15, 29, 77]\n",
      "89797751454439291512\n"
     ]
    }
   ],
   "source": [
    "import random\n",
    "from random import randint\n",
    "\n",
    "\n",
    "def maximum(arr):\n",
    "    for i in range(len(arr)):\n",
    "        arr[i] = str(arr[i])\n",
    "\n",
    "    arr.sort(reverse=True)\n",
    "    result = ''\n",
    "\n",
    "    for i in range(len(arr)):\n",
    "        result += arr[i]\n",
    "\n",
    "    return result\n",
    "\n",
    "\n",
    "num_arr = [random.randint(0, 100) for el in range(10)]\n",
    "print(num_arr)\n",
    "print(maximum(num_arr))"
   ]
  },
  {
   "cell_type": "markdown",
   "id": "catholic-roots",
   "metadata": {},
   "source": [
    "### Задание №3\n",
    "Дана матрица mat размером m * n, значения целочисленные. Напишите функцию, сортирующую каждую диагональ матрицы по возрастанию и возвращающую получившуюся матрицу."
   ]
  },
  {
   "cell_type": "code",
   "execution_count": 4,
   "id": "cleared-anniversary",
   "metadata": {
    "scrolled": false
   },
   "outputs": [
    {
     "name": "stdout",
     "output_type": "stream",
     "text": [
      "Введите значение n: 4\n",
      "Введите значение m: 5\n",
      "53 83 67 61 96 \n",
      "44 22 59 31 39 \n",
      "82 63 76 50 22 \n",
      "17 31 95 14 28 \n",
      "\n",
      "14 83 67 63 96 \n",
      "44 22 61 31 39 \n",
      "82 59 53 50 22 \n",
      "17 31 95 76 28 \n"
     ]
    }
   ],
   "source": [
    "import random\n",
    "from random import randint\n",
    "\n",
    "\n",
    "def create_matrix(n, m):\n",
    "    return [[random.randint(10, 99) for j in range(m)] for i in range(n)]\n",
    "\n",
    "\n",
    "def print_matrix(matrix):\n",
    "    for i in range(len(matrix)):\n",
    "        for j in range(len(matrix[i])):\n",
    "            print(matrix[i][j], end=' ')\n",
    "        print()\n",
    "\n",
    "\n",
    "def sort_diagonals(matrix):\n",
    "    length = min(len(matrix), len(matrix[0]))\n",
    "    main_dg = []\n",
    "    side_dg = []\n",
    "\n",
    "    for i in range(length):\n",
    "        main_dg.append(matrix[i][i])\n",
    "        side_dg.append(matrix[-i - 1][i])\n",
    "\n",
    "    main_dg.sort()\n",
    "    side_dg.sort()\n",
    "\n",
    "    for i in range(length):\n",
    "        matrix[i][i] = main_dg[i]\n",
    "        matrix[-i - 1][i] = side_dg[i]\n",
    "\n",
    "    return matrix\n",
    "\n",
    "\n",
    "n, m = int(input('Введите значение n: ')), int(input('Введите значение m: '))\n",
    "\n",
    "mat = create_matrix(n, m)\n",
    "print_matrix(mat)\n",
    "print()\n",
    "print_matrix(sort_diagonals(mat))"
   ]
  }
 ],
 "metadata": {
  "kernelspec": {
   "display_name": "Python 3 (ipykernel)",
   "language": "python",
   "name": "python3"
  },
  "language_info": {
   "codemirror_mode": {
    "name": "ipython",
    "version": 3
   },
   "file_extension": ".py",
   "mimetype": "text/x-python",
   "name": "python",
   "nbconvert_exporter": "python",
   "pygments_lexer": "ipython3",
   "version": "3.10.3"
  }
 },
 "nbformat": 4,
 "nbformat_minor": 5
}
