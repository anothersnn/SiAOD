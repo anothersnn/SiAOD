{
 "cells": [
  {
   "cell_type": "markdown",
   "id": "arctic-stocks",
   "metadata": {},
   "source": [
    "### Задание №1\n",
    "Массив A состоит из целых положительных чисел длин отрезков. Составьте из трех отрезков такой треугольник, чтобы его периметр был максимально возможным. Если невозможно составить треугольник с положительной площадью функция возвращает 0."
   ]
  },
  {
   "cell_type": "code",
   "execution_count": 4,
   "id": "caring-truck",
   "metadata": {
    "scrolled": false
   },
   "outputs": [
    {
     "name": "stdout",
     "output_type": "stream",
     "text": [
      "6 12 8 2 10 5 3 8 15\n",
      "[15, 12, 10]\n"
     ]
    }
   ],
   "source": [
    "def triangle():\n",
    "    data = input().rstrip().replace('  ', ' ').split(' ')\n",
    "    arr = [int(el) for el in data]\n",
    "    arr.sort()\n",
    "    sides = []\n",
    "    p = 0\n",
    "    for i in range(2, len(arr)):\n",
    "        a = arr[i]\n",
    "        b = arr[i - 1]\n",
    "        c = arr[i - 2]\n",
    "        if (b + c) > a:\n",
    "            p = a + b + c\n",
    "            sides = [a, b, c]\n",
    "    if p == 0:\n",
    "        return p\n",
    "    return sides\n",
    "\n",
    "\n",
    "print(triangle())"
   ]
  },
  {
   "cell_type": "markdown",
   "id": "maritime-conversation",
   "metadata": {},
   "source": [
    "### Задание №2\n",
    "Дан массив неотрицательных целых чисел nums. Расположите их в таком порядке, чтобы вместе они образовали максимально возможное число. Замечание: Результат может быть очень большим числом, поэтому представьте его как string, а не integer."
   ]
  },
  {
   "cell_type": "code",
   "execution_count": 7,
   "id": "alert-charm",
   "metadata": {
    "scrolled": false
   },
   "outputs": [
    {
     "name": "stdout",
     "output_type": "stream",
     "text": [
      "[53, 130, 78, 999, 49, 1, 0, 627]\n",
      "99978627534913010\n"
     ]
    }
   ],
   "source": [
    "def maximum(arr):\n",
    "    for i in range(len(arr)):\n",
    "        arr[i] = str(arr[i])\n",
    "    arr.sort(reverse=True)\n",
    "    retarr = ''\n",
    "    for i in range(len(arr)):\n",
    "        retarr += arr[i]\n",
    "    return retarr\n",
    "\n",
    "\n",
    "arr = [53, 130, 78, 999, 49, 1, 0, 627]\n",
    "print(arr)\n",
    "print(maximum(arr))"
   ]
  },
  {
   "cell_type": "markdown",
   "id": "catholic-roots",
   "metadata": {},
   "source": [
    "### Задание №3\n",
    "Дана матрица mat размером m * n, значения целочисленные. Напишите функцию, сортирующую каждую диагональ матрицы по возрастанию и возвращающую получившуюся матрицу."
   ]
  },
  {
   "cell_type": "code",
   "execution_count": 11,
   "id": "cleared-anniversary",
   "metadata": {
    "scrolled": false
   },
   "outputs": [
    {
     "name": "stdout",
     "output_type": "stream",
     "text": [
      "65 23 41 72 \n",
      "50 87 17 98 \n",
      "33 10 12 25 \n",
      "\n",
      "12 23 87 72 \n",
      "50 41 17 98 \n",
      "33 10 87 25 \n",
      "\n"
     ]
    }
   ],
   "source": [
    "def print_matrix(matrix):\n",
    "    for i in range(len(matrix)):\n",
    "        for j in range(len(matrix[0])):\n",
    "            print(matrix[i][j], end=' ')\n",
    "        print()\n",
    "    print()\n",
    "\n",
    "\n",
    "def sort_diagonals(matrix):\n",
    "    length = min(len(matrix), len(matrix[0]))\n",
    "    main_dg = []\n",
    "    side_dg = []\n",
    "    for i in range(length):\n",
    "        main_dg.append(matrix[i][i])\n",
    "        side_dg.append(matrix[-i - 1][i])\n",
    "    main_dg.sort()\n",
    "    side_dg.sort()\n",
    "    for i in range(length):\n",
    "        matrix[i][i] = main_dg[i]\n",
    "        matrix[-i - 1][i] = side_dg[i]\n",
    "\n",
    "\n",
    "matrix = [[65, 23, 41, 72], [50, 87, 17, 98], [33, 10, 12, 25]]\n",
    "print_matrix(matrix)\n",
    "\n",
    "sort_diagonals(matrix)\n",
    "print_matrix(matrix)"
   ]
  }
 ],
 "metadata": {
  "kernelspec": {
   "display_name": "Python 3 (ipykernel)",
   "language": "python",
   "name": "python3"
  },
  "language_info": {
   "codemirror_mode": {
    "name": "ipython",
    "version": 3
   },
   "file_extension": ".py",
   "mimetype": "text/x-python",
   "name": "python",
   "nbconvert_exporter": "python",
   "pygments_lexer": "ipython3",
   "version": "3.10.2"
  }
 },
 "nbformat": 4,
 "nbformat_minor": 5
}
