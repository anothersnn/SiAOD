{
 "cells": [
  {
   "cell_type": "markdown",
   "id": "244314fb",
   "metadata": {},
   "source": [
    "# Задание 1"
   ]
  },
  {
   "cell_type": "markdown",
   "id": "64630386",
   "metadata": {},
   "source": [
    "Даны две строки: `s1` и `s2` с одинаковым размером.\n",
    "\n",
    "Проверьте, может ли некоторая перестановка строки `s1` “победить” некоторую перестановку строки `s2` или наоборот.\n",
    "\n",
    "Строка x может “победить” строку y (обе имеют размер n), если `x[i] >= y[i]` (в алфавитном порядке) для всех i от 0 до n-1.\n"
   ]
  },
  {
   "cell_type": "markdown",
   "id": "cf51dab2",
   "metadata": {},
   "source": [
    "## Ввод"
   ]
  },
  {
   "cell_type": "markdown",
   "id": "d697a747",
   "metadata": {},
   "source": [
    "`abc`\n",
    "`xya`"
   ]
  },
  {
   "cell_type": "markdown",
   "id": "50b10a2e",
   "metadata": {},
   "source": [
    "## Вывод"
   ]
  },
  {
   "cell_type": "markdown",
   "id": "55442a49",
   "metadata": {},
   "source": [
    "`True`\n",
    "\n",
    "### Исполняемый код записать в ячейку ниже:"
   ]
  },
  {
   "cell_type": "code",
   "execution_count": 1,
   "id": "3b0d440a",
   "metadata": {},
   "outputs": [
    {
     "name": "stdout",
     "output_type": "stream",
     "text": [
      "Введите первую строку: abc\n",
      "Введите вторую строку: xya\n",
      "True\n"
     ]
    }
   ],
   "source": [
    "def battle(s1, s2):\n",
    "    s1, s2 = list(s1), list(s2)\n",
    "    s1.sort()\n",
    "    s2.sort()\n",
    "\n",
    "    if len(s1) == len(s2):\n",
    "        for i in range(len(s1)):\n",
    "            if s1[i] > s2[i]:\n",
    "                return False\n",
    "        return True\n",
    "\n",
    "\n",
    "str1, str2 = input('Введите первую строку: '), input('Введите вторую строку: ')\n",
    "print(battle(str1, str2))"
   ]
  },
  {
   "cell_type": "markdown",
   "id": "b3a969a6",
   "metadata": {},
   "source": [
    "# Задание 2"
   ]
  },
  {
   "cell_type": "markdown",
   "id": "9c1ce05d",
   "metadata": {},
   "source": [
    "Дана строка `s`, вернуть самую длинную полиндромную подстроку в `s`."
   ]
  },
  {
   "cell_type": "markdown",
   "id": "20415c0e",
   "metadata": {},
   "source": [
    "## Ввод"
   ]
  },
  {
   "cell_type": "markdown",
   "id": "e77fcb44",
   "metadata": {},
   "source": [
    "`babad`"
   ]
  },
  {
   "cell_type": "markdown",
   "id": "49996449",
   "metadata": {},
   "source": [
    "## Вывод"
   ]
  },
  {
   "cell_type": "markdown",
   "id": "75be2464",
   "metadata": {},
   "source": [
    "`aba` или `bab`"
   ]
  },
  {
   "cell_type": "markdown",
   "id": "12ef9771",
   "metadata": {},
   "source": [
    "## Исполняемый код записывать в ячейку ниже"
   ]
  },
  {
   "cell_type": "code",
   "execution_count": 2,
   "id": "3f06c4fc",
   "metadata": {},
   "outputs": [
    {
     "name": "stdout",
     "output_type": "stream",
     "text": [
      "Введите строку: babad\n",
      "bab\n"
     ]
    }
   ],
   "source": [
    "def get_largest_palindrome(pal):\n",
    "    result = pal[0]\n",
    "    for el in pal:\n",
    "        if len(el) > len(result):\n",
    "            result = el\n",
    "    return result\n",
    "\n",
    "\n",
    "def palindrome(line):\n",
    "    found_pal = []\n",
    "\n",
    "    if len(line) == 1:\n",
    "        return line\n",
    "\n",
    "    for i in range(len(line) - 1):\n",
    "        for j in range(i, len(line)):  # Срезы с i по j\n",
    "            temp = line[i: j + 1]\n",
    "            if temp == temp[::-1]:\n",
    "                found_pal.append(temp)\n",
    "\n",
    "    return get_largest_palindrome(found_pal)\n",
    "\n",
    "\n",
    "s = input('Введите строку: ')\n",
    "print(palindrome(s))"
   ]
  },
  {
   "cell_type": "markdown",
   "id": "5f54b630",
   "metadata": {},
   "source": [
    "# Задание 3"
   ]
  },
  {
   "cell_type": "markdown",
   "id": "566f1d3b",
   "metadata": {},
   "source": [
    "Вернуть количество отдельных непустых подстрок текста, которые могут быть записаны как конкатенация некоторой строки с самой собой (т.е. она может быть записана, как `a + a`, где `a` - некоторая строка)."
   ]
  },
  {
   "cell_type": "markdown",
   "id": "0f734fd8",
   "metadata": {},
   "source": [
    "## Ввод"
   ]
  },
  {
   "cell_type": "markdown",
   "id": "e0be5554",
   "metadata": {},
   "source": [
    "`aabb`"
   ]
  },
  {
   "cell_type": "markdown",
   "id": "ab8eda0b",
   "metadata": {},
   "source": [
    "## Вывод"
   ]
  },
  {
   "cell_type": "markdown",
   "id": "1d716d36",
   "metadata": {},
   "source": [
    "2"
   ]
  },
  {
   "cell_type": "markdown",
   "id": "fcd91349",
   "metadata": {},
   "source": [
    "## Исполняемый код записывать в ячейку ниже"
   ]
  },
  {
   "cell_type": "code",
   "execution_count": 3,
   "id": "be07379d",
   "metadata": {},
   "outputs": [
    {
     "name": "stdout",
     "output_type": "stream",
     "text": [
      "Введите строку: aabb\n",
      "2\n"
     ]
    }
   ],
   "source": [
    "def conc(line):\n",
    "    found_conc = []\n",
    "\n",
    "    for i in range(len(line) - 1):\n",
    "        for j in range(i, len(line)):  # Срезы с i по j\n",
    "            temp = line[i: j + 1]\n",
    "            if len(temp) % 2 == 0:\n",
    "                if temp[:len(temp) // 2] == temp[len(temp) // 2:]:\n",
    "                    found_conc.append(temp)\n",
    "\n",
    "    return len(found_conc)\n",
    "\n",
    "\n",
    "s = input('Введите строку: ')\n",
    "print(conc(s))"
   ]
  }
 ],
 "metadata": {
  "kernelspec": {
   "display_name": "Python 3 (ipykernel)",
   "language": "python",
   "name": "python3"
  },
  "language_info": {
   "codemirror_mode": {
    "name": "ipython",
    "version": 3
   },
   "file_extension": ".py",
   "mimetype": "text/x-python",
   "name": "python",
   "nbconvert_exporter": "python",
   "pygments_lexer": "ipython3",
   "version": "3.10.3"
  }
 },
 "nbformat": 4,
 "nbformat_minor": 5
}
